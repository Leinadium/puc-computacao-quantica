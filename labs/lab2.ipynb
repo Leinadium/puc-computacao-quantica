{
 "cells": [
  {
   "cell_type": "markdown",
   "metadata": {
    "collapsed": true,
    "pycharm": {
     "name": "#%% md\n"
    }
   },
   "source": [
    "# Atividade Qiskit 2\n",
    "* *Daniel Guimarães* - 1910462\n",
    "* *Iury Saboia* - 1620675\n",
    "\n",
    "N5 = 4, N6 = 6 e N7 = 2,"
   ]
  },
  {
   "cell_type": "markdown",
   "source": [
    "## Questão 1.1\n",
    "### Encontrando o vetor |0'⟩ e |1'⟩\n",
    "\n",
    "```\n",
    "|0' não-normalizado⟩ = 3 |0⟩ + 7 e^(10iπ⁄11) |1⟩\n",
    "norma = √(α^2+β^2)= √58\n",
    "|0'⟩ = (3/√58) |0⟩ + (7/√58)e^(10iπ⁄11) |1⟩\n",
    "|1'⟩ = (7/√58)e^(-10iπ⁄11) |0⟩ - (3/√58) |1⟩\n",
    "```\n",
    "\n",
    "### Achando as rotações\n",
    "Para poder medir na base {|0'⟩,|1'⟩}, é necessário encontrar os ângulos para a matriz de rotação\n",
    "\n",
    "```\n",
    "|0'⟩ = α |0⟩ + β e^ϕi |1⟩ = cos(θ/2) |0⟩ + sin(θ/2) e^ϕi |1⟩\n",
    "θ = 2 * acos(3/√58) = 0.7422π\n",
    "ϕ = 10π/11\n",
    "```\n",
    "\n",
    "Porém, esses são os ângulos para ir de |0⟩ para |0'⟩. Logo, as matrizes de rotação para ir de\n",
    "|0'⟩ para |0⟩, é necessário fazer o *dagger* dessas matrizes, que nesse caso é a mesma matriz com os ângulos negativos."
   ],
   "metadata": {
    "collapsed": false,
    "pycharm": {
     "name": "#%% md\n"
    }
   }
  },
  {
   "cell_type": "code",
   "execution_count": 7,
   "outputs": [
    {
     "data": {
      "text/plain": "     ┌─────────────────┐┌─────────────┐┌─────────────┐┌─┐\nq_0: ┤ Initialize(1,0) ├┤ Rz(-10π/11) ├┤ Ry(-2.3391) ├┤M├\n     └─────────────────┘└─────────────┘└─────────────┘└╥┘\nc: 1/══════════════════════════════════════════════════╩═\n                                                       0 ",
      "text/html": "<pre style=\"word-wrap: normal;white-space: pre;background: #fff0;line-height: 1.1;font-family: &quot;Courier New&quot;,Courier,monospace\">     ┌─────────────────┐┌─────────────┐┌─────────────┐┌─┐\nq_0: ┤ Initialize(1,0) ├┤ Rz(-10π/11) ├┤ Ry(-2.3391) ├┤M├\n     └─────────────────┘└─────────────┘└─────────────┘└╥┘\nc: 1/══════════════════════════════════════════════════╩═\n                                                       0 </pre>"
     },
     "execution_count": 7,
     "metadata": {},
     "output_type": "execute_result"
    }
   ],
   "source": [
    "from qiskit import QuantumCircuit, execute, Aer\n",
    "from math import acos, sqrt, pi\n",
    "\n",
    "estado_entrada = [1, 0]     # qibit |0⟩ para exemplo\n",
    "phi = 10 * pi / 11\n",
    "theta = 2 * acos(3/sqrt(59))\n",
    "qc = QuantumCircuit(1, 1)\n",
    "qc.initialize(estado_entrada)\n",
    "# fazendo as transformações dagger\n",
    "qc.rz(-phi, 0)                # Rz(-ϕ)\n",
    "qc.ry(-theta, 0)     # Ry(-θ)\n",
    "qc.measure(0, 0)\n",
    "qc.draw()"
   ],
   "metadata": {
    "collapsed": false,
    "pycharm": {
     "name": "#%%\n"
    }
   }
  },
  {
   "cell_type": "markdown",
   "source": [
    "## Questão 1.2"
   ],
   "metadata": {
    "collapsed": false
   }
  },
  {
   "cell_type": "code",
   "execution_count": 28,
   "outputs": [
    {
     "data": {
      "text/plain": "     ┌─────────────────┐┌─────────────┐┌─────────────┐┌─┐   \nq_0: ┤ Initialize(1,0) ├┤ Rz(-10π/11) ├┤ Ry(-2.3391) ├┤M├───\n     ├─────────────────┤├─────────────┤├─────────────┤└╥┘┌─┐\nq_1: ┤ Initialize(0,1) ├┤ Rz(-10π/11) ├┤ Ry(-2.3391) ├─╫─┤M├\n     └─────────────────┘└─────────────┘└─────────────┘ ║ └╥┘\nc: 2/══════════════════════════════════════════════════╩══╩═\n                                                       0  1 ",
      "text/html": "<pre style=\"word-wrap: normal;white-space: pre;background: #fff0;line-height: 1.1;font-family: &quot;Courier New&quot;,Courier,monospace\">     ┌─────────────────┐┌─────────────┐┌─────────────┐┌─┐   \nq_0: ┤ Initialize(1,0) ├┤ Rz(-10π/11) ├┤ Ry(-2.3391) ├┤M├───\n     ├─────────────────┤├─────────────┤├─────────────┤└╥┘┌─┐\nq_1: ┤ Initialize(0,1) ├┤ Rz(-10π/11) ├┤ Ry(-2.3391) ├─╫─┤M├\n     └─────────────────┘└─────────────┘└─────────────┘ ║ └╥┘\nc: 2/══════════════════════════════════════════════════╩══╩═\n                                                       0  1 </pre>"
     },
     "execution_count": 28,
     "metadata": {},
     "output_type": "execute_result"
    }
   ],
   "source": [
    "qc = QuantumCircuit(2, 2)\n",
    "qc.initialize([1, 0], 0)\n",
    "qc.initialize([0, 1], 1)\n",
    "qc.rz(-phi, 0)\n",
    "qc.rz(-phi, 1)\n",
    "qc.ry(-theta, 0)\n",
    "qc.ry(-theta, 1)\n",
    "qc.measure(0, 0)\n",
    "qc.measure(1, 1)\n",
    "qc.draw()"
   ],
   "metadata": {
    "collapsed": false,
    "pycharm": {
     "name": "#%%\n"
    }
   }
  },
  {
   "cell_type": "code",
   "execution_count": 29,
   "outputs": [
    {
     "name": "stdout",
     "output_type": "stream",
     "text": [
      "Qibit |0⟩ mediu 0 em 0.153 das vezes. Teoria: 0.155\n",
      "Qibit |1⟩ mediu 0 em 0.848 das vezes. Teoria: 0.845\n"
     ]
    },
    {
     "data": {
      "text/plain": "<Figure size 504x360 with 1 Axes>",
      "image/png": "[encoded data removed]"
     },
     "execution_count": 29,
     "metadata": {},
     "output_type": "execute_result"
    }
   ],
   "source": [
    "backend = Aer.get_backend('qasm_simulator')\n",
    "res = execute(qc, backend, shots=10000).result()\n",
    "counts = res.get_counts()\n",
    "\n",
    "print(\"Qibit |0⟩ mediu 0 em %0.3f das vezes. Teoria: %0.3f\" %\n",
    "      ((counts['10'] + counts['00'])/10000, 9/58))\n",
    "print(\"Qibit |1⟩ mediu 0 em %0.3f das vezes. Teoria: %0.3f\" %\n",
    "      ((counts['00'] + counts['01'])/10000, 49/58))\n",
    "\n",
    "from qiskit.tools.visualization import plot_histogram\n",
    "plot_histogram(counts)"
   ],
   "metadata": {
    "collapsed": false,
    "pycharm": {
     "name": "#%%\n"
    }
   }
  },
  {
   "cell_type": "markdown",
   "source": [
    "O valor teórico de |0⟩ medir 0 é ```|⟨0'|0⟩|^2 = |(3/√58)^2 ⟨0|0⟩|^2 = |3/√58|^2 = 9/58```\n",
    "\n",
    "O valor teórico de |1⟩ medir 0 é ```|⟨0'|1⟩|^2 = |(7/√58)^2 ⟨1|1⟩|^2 = |7/√58|^2 = 49/58```"
   ],
   "metadata": {
    "collapsed": false,
    "pycharm": {
     "name": "#%% md\n"
    }
   }
  },
  {
   "cell_type": "markdown",
   "source": [
    "## Questão 2.1"
   ],
   "metadata": {
    "collapsed": false
   }
  },
  {
   "cell_type": "code",
   "execution_count": 54,
   "outputs": [
    {
     "data": {
      "text/plain": "     ┌───┐     \nq_0: ┤ H ├──■──\n     └───┘┌─┴─┐\nq_1: ─────┤ X ├\n          └───┘\nc: 2/══════════\n               ",
      "text/html": "<pre style=\"word-wrap: normal;white-space: pre;background: #fff0;line-height: 1.1;font-family: &quot;Courier New&quot;,Courier,monospace\">     ┌───┐     \nq_0: ┤ H ├──■──\n     └───┘┌─┴─┐\nq_1: ─────┤ X ├\n          └───┘\nc: 2/══════════\n               </pre>"
     },
     "execution_count": 54,
     "metadata": {},
     "output_type": "execute_result"
    }
   ],
   "source": [
    "qc = QuantumCircuit(2, 2)\n",
    "qc.h(0)                     # |0⟩ -> |+⟩\n",
    "qc.cnot(0, 1)\n",
    "qc.draw()"
   ],
   "metadata": {
    "collapsed": false,
    "pycharm": {
     "name": "#%%\n"
    }
   }
  },
  {
   "cell_type": "markdown",
   "source": [
    "## Questão 2.2i"
   ],
   "metadata": {
    "collapsed": false
   }
  },
  {
   "cell_type": "code",
   "execution_count": 58,
   "outputs": [
    {
     "data": {
      "text/plain": "<Figure size 504x360 with 1 Axes>",
      "image/png": "[encoded data removed]"
     },
     "execution_count": 58,
     "metadata": {},
     "output_type": "execute_result"
    }
   ],
   "source": [
    "qc_i = qc.copy()        #qc_i é o circuito da 2.2(i)\n",
    "qc_i.measure(0, 0)\n",
    "qc_i.measure(1, 1)\n",
    "counts = execute(qc_i, backend, shots=10000).result().get_counts()\n",
    "plot_histogram(counts)"
   ],
   "metadata": {
    "collapsed": false,
    "pycharm": {
     "name": "#%%\n"
    }
   }
  },
  {
   "cell_type": "markdown",
   "source": [
    "O valor teórico de |ϕ+⟩ medir |00⟩ é\n",
    "```| ⟨00|ϕ+⟩ |^2 = | ⟨00|00⟩/√2 |^2 = 0.5```"
   ],
   "metadata": {
    "collapsed": false,
    "pycharm": {
     "name": "#%% md\n"
    }
   }
  },
  {
   "cell_type": "markdown",
   "source": [
    "## Questão 2.2ii"
   ],
   "metadata": {
    "collapsed": false,
    "pycharm": {
     "name": "#%% md\n"
    }
   }
  },
  {
   "cell_type": "code",
   "execution_count": 57,
   "outputs": [
    {
     "data": {
      "text/plain": "<Figure size 504x360 with 1 Axes>",
      "image/png": "[encoded data removed]"
     },
     "execution_count": 57,
     "metadata": {},
     "output_type": "execute_result"
    }
   ],
   "source": [
    "qc_ii = qc.copy()\n",
    "qc_ii.rz(-phi, 0)\n",
    "qc_ii.rz(-phi, 1)\n",
    "qc_ii.ry(-theta, 0)\n",
    "qc_ii.ry(-theta, 1)\n",
    "qc_ii.measure(0, 0)\n",
    "qc_ii.measure(1, 1)\n",
    "counts = execute(qc_ii, backend, shots=10000).result().get_counts()\n",
    "plot_histogram(counts)"
   ],
   "metadata": {
    "collapsed": false,
    "pycharm": {
     "name": "#%%\n"
    }
   }
  },
  {
   "cell_type": "markdown",
   "source": [
    "O valor teórico de |ϕ+⟩ medir |0'0'⟩ é\n",
    "```\n",
    "| ⟨0'0'|ϕ+⟩ |^2 = | (⟨'0'0|00⟩ + ⟨'0'0|11⟩)/√2 |^2 =\n",
    "| 9/58√2 + 49e^(-20iπ⁄11)/58√2 |^2 = 0.479\n",
    "```\n",
    "O valor teórico de |ϕ+⟩ medir |1'0'⟩ é\n",
    "```\n",
    "| ⟨1'0'|ϕ+⟩ |^2 = | (⟨'1'0|00⟩ + ⟨'1'0|11⟩)/√2 |^2 =\n",
    "|1/√2 * ( ⟨1'|0⟩⟨0'|0⟩ + ⟨1'|1⟩^2 ) | ^2 =\n",
    "|1/58√2 * (21e^(-10iπ⁄11) + 9) |^2 = 0.0236\n",
    "```"
   ],
   "metadata": {
    "collapsed": false
   }
  },
  {
   "cell_type": "markdown",
   "source": [
    "## Questão 2.3"
   ],
   "metadata": {
    "collapsed": false
   }
  },
  {
   "cell_type": "code",
   "execution_count": 65,
   "outputs": [
    {
     "data": {
      "text/plain": "     ┌───┐┌───┐     \nq_0: ┤ X ├┤ H ├──■──\n     ├───┤└───┘┌─┴─┐\nq_1: ┤ X ├─────┤ X ├\n     └───┘     └───┘\nc: 2/═══════════════\n                    ",
      "text/html": "<pre style=\"word-wrap: normal;white-space: pre;background: #fff0;line-height: 1.1;font-family: &quot;Courier New&quot;,Courier,monospace\">     ┌───┐┌───┐     \nq_0: ┤ X ├┤ H ├──■──\n     ├───┤└───┘┌─┴─┐\nq_1: ┤ X ├─────┤ X ├\n     └───┘     └───┘\nc: 2/═══════════════\n                    </pre>"
     },
     "execution_count": 65,
     "metadata": {},
     "output_type": "execute_result"
    }
   ],
   "source": [
    "qc3 = QuantumCircuit(2, 2)\n",
    "qc3.x(0)                     # |0⟩|0⟩ -> |1⟩|0⟩\n",
    "qc3.x(1)                     # |1⟩|0⟩ -> |1⟩|1⟩\n",
    "qc3.h(0)                     # |1⟩|1⟩ -> |-⟩|1⟩\n",
    "qc3.cnot(0, 1)               # |-⟩|1⟩ -> |ψ⟩\n",
    "qc3.draw()"
   ],
   "metadata": {
    "collapsed": false,
    "pycharm": {
     "name": "#%%\n"
    }
   }
  },
  {
   "cell_type": "markdown",
   "source": [
    "## Questão 2.4i"
   ],
   "metadata": {
    "collapsed": false
   }
  },
  {
   "cell_type": "code",
   "execution_count": 62,
   "outputs": [
    {
     "data": {
      "text/plain": "<Figure size 504x360 with 1 Axes>",
      "image/png": "[encoded data removed]"
     },
     "execution_count": 62,
     "metadata": {},
     "output_type": "execute_result"
    }
   ],
   "source": [
    "qc_i = qc3.copy()\n",
    "qc_i.measure(0, 0)\n",
    "qc_i.measure(1, 1)\n",
    "counts = execute(qc_i, backend, shots=10000).result().get_counts()\n",
    "plot_histogram(counts)"
   ],
   "metadata": {
    "collapsed": false,
    "pycharm": {
     "name": "#%%\n"
    }
   }
  },
  {
   "cell_type": "markdown",
   "source": [
    "O valor teórico de |ψ-⟩ medir |10⟩ é\n",
    "```| ⟨00|ψ-⟩ |^2 = | ⟨10|01⟩/√2 |^2 = 0.5```"
   ],
   "metadata": {
    "collapsed": false
   }
  },
  {
   "cell_type": "markdown",
   "source": [
    "## Questão 2.4ii"
   ],
   "metadata": {
    "collapsed": false
   }
  },
  {
   "cell_type": "code",
   "execution_count": 63,
   "outputs": [
    {
     "data": {
      "text/plain": "<Figure size 504x360 with 1 Axes>",
      "image/png": "[encoded data removed]"
     },
     "execution_count": 63,
     "metadata": {},
     "output_type": "execute_result"
    }
   ],
   "source": [
    "qc_ii = qc3.copy()\n",
    "qc_ii.rz(-phi, 0)\n",
    "qc_ii.rz(-phi, 1)\n",
    "qc_ii.ry(-theta, 0)\n",
    "qc_ii.ry(-theta, 1)\n",
    "qc_ii.measure(0, 0)\n",
    "qc_ii.measure(1, 1)\n",
    "counts = execute(qc_ii, backend, shots=10000).result().get_counts()\n",
    "plot_histogram(counts)"
   ],
   "metadata": {
    "collapsed": false,
    "pycharm": {
     "name": "#%%\n"
    }
   }
  },
  {
   "cell_type": "markdown",
   "source": [
    "O valor teórico de |ψ-⟩ medir |1'0'⟩ é\n",
    "```\n",
    "| ⟨1'0'|ψ-⟩ |^2 = | (⟨'1'0|01⟩ - ⟨'1'0|10⟩)/√2 |^2 =\n",
    "|1/√2 * ( ⟨0'|0⟩⟨1'|1⟩ - ⟨0'|1⟩⟨1'|0⟩ ) | ^2 =\n",
    "|1/58√2 * (-9 - 49) |^2 = 0.5\n",
    "```"
   ],
   "metadata": {
    "collapsed": false
   }
  },
  {
   "cell_type": "markdown",
   "source": [
    "## Questão 2.5"
   ],
   "metadata": {
    "collapsed": false,
    "pycharm": {
     "name": "#%% md\n"
    }
   }
  },
  {
   "cell_type": "code",
   "source": [
    "qc4 = qc3.copy()\n",
    "qc4.rz(-phi, 1)\n",
    "qc4.ry(-theta, 1)\n",
    "qc4.measure(0, 0)\n",
    "qc4.measure(1, 1)\n",
    "counts = execute(qc4, backend, shots=10000).result().get_counts()\n",
    "plot_histogram(counts)"
   ],
   "metadata": {
    "collapsed": false,
    "pycharm": {
     "name": "#%%\n"
    }
   },
   "execution_count": 67,
   "outputs": [
    {
     "data": {
      "text/plain": "<Figure size 504x360 with 1 Axes>",
      "image/png": "[encoded data removed]"
     },
     "execution_count": 67,
     "metadata": {},
     "output_type": "execute_result"
    }
   ]
  },
  {
   "cell_type": "markdown",
   "source": [
    "O valor teórico de |ψ-⟩ medir |00'⟩ é\n",
    "```\n",
    "| ⟨00'|ψ-⟩ |^2 = | (⟨00'|01⟩ - ⟨00'|10⟩)/√2 |^2 =\n",
    "|1/√2 * ( ⟨0'|0⟩⟨0|1⟩ + ⟨0'|1⟩⟨0|0⟩ ) | ^2 =\n",
    "|1/√2 * (9e^(10iπ⁄11)/√58 |^2 = 0.422\n",
    "```\n",
    "O valor teórico de |ψ-⟩ medir |10'⟩ é\n",
    "```\n",
    "| ⟨10'|ψ-⟩ |^2 = | (⟨10'|01⟩ - ⟨10'|10⟩)/√2 |^2 =\n",
    "|1/√2 * ( ⟨0'|0⟩⟨1|1⟩ + ⟨0'|1⟩⟨1|0⟩ ) | ^2 =\n",
    "|1/√2 * (3/√58) |^2 = 0.077\n",
    "```"
   ],
   "metadata": {
    "collapsed": false
   }
  }
 ],
 "metadata": {
  "kernelspec": {
   "display_name": "Python 3",
   "language": "python",
   "name": "python3"
  },
  "language_info": {
   "codemirror_mode": {
    "name": "ipython",
    "version": 2
   },
   "file_extension": ".py",
   "mimetype": "text/x-python",
   "name": "python",
   "nbconvert_exporter": "python",
   "pygments_lexer": "ipython2",
   "version": "2.7.6"
  }
 },
 "nbformat": 4,
 "nbformat_minor": 0
}