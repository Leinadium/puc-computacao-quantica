{
 "cells": [
  {
   "cell_type": "markdown",
   "metadata": {
    "collapsed": true,
    "pycharm": {
     "name": "#%% md\n"
    }
   },
   "source": [
    "# Laboratório 5\n",
    "\n",
    "* Daniel Guimarães\n",
    "\n",
    "* Iury Saboia"
   ]
  },
  {
   "cell_type": "markdown",
   "source": [
    "## Parte 1: Algoritmo de Deutsch\n",
    "\n",
    "Combinações de ```f(x)``` possíveis:\n",
    "\n",
    "```text\n",
    "f(x) = 0     (constante , variacao 0)\n",
    "f(x) = 1     (constante , variacao 1)\n",
    "f(x) = x     (balanceado, variacao 0)\n",
    "f(x) = 1-x   (balanceado, variacao 1)\n",
    "```\n",
    "\n",
    "\n",
    "**Determine o circuito quântico do oráculo Uf correspondente a cada uma das 4 funções f possíveis**\n",
    "\n",
    "(Para todas as respostas abaixo, foi considerado que um oráculo o Oráculo possui duas entradas, ```[x, y]``` ,\n",
    " e duas saídas, ```[x, y ⊕ f(x)]``` )"
   ],
   "metadata": {
    "collapsed": false,
    "pycharm": {
     "name": "#%% md\n"
    }
   }
  },
  {
   "cell_type": "code",
   "execution_count": 12,
   "outputs": [],
   "source": [
    "# Para as opções constantes, basta colocar ou não uma porta inversora na saída:\n",
    "# Para as opções balanceadas, basta colocar uma porta lógica CNOT\n",
    "\n",
    "from qiskit import QuantumCircuit\n",
    "from typing import Union\n",
    "\n",
    "def aplicando_oraculo(c: Union[QuantumCircuit, None], modo: str=\"balanceado\", variacao: int=0):\n",
    "    \"\"\"\n",
    "    Aplica o oraculo no circuito quântico.\n",
    "    O circuito quântico precisa de dois qubits, sendo o q0 a entrada x, e o q1 a saída y ⊕ f(x)\n",
    "\n",
    "    :param c: Circuito quântico. Se for None, um novo circuito quântico sera criado e retornado\n",
    "    :param modo: \"balanceado\" ou \"constante\"\n",
    "    :param variacao: 0 ou 1\n",
    "    \"\"\"\n",
    "\n",
    "    if c is None:\n",
    "        c = QuantumCircuit(2)\n",
    "\n",
    "    if modo == 'constante':\n",
    "        pass            # joga y na saida\n",
    "    else:\n",
    "        c.cnot(0, 1)    # muda o y de acordo com x\n",
    "\n",
    "    if variacao == 1:\n",
    "        c.x(1)          # inverte o resultado acima\n",
    "    c.barrier()\n",
    "\n",
    "    return c\n",
    "\n",
    "# qc = QuantumCircuit(2, 2)\n",
    "# aplicando_oraculo(qc, \"balanceado\", 0)\n",
    "# aplicando_oraculo(qc, \"balanceado\", 1)\n",
    "# aplicando_oraculo(qc, \"constante\", 0)\n",
    "# aplicando_oraculo(qc, \"constante\", 1)\n",
    "# qc.draw()"
   ],
   "metadata": {
    "collapsed": false,
    "pycharm": {
     "name": "#%%\n"
    }
   }
  },
  {
   "cell_type": "markdown",
   "source": [
    "**Simule no Qiskit um circuito quântico que implemente o Algoritmo de Deutsch para cada uma das funções acima.**"
   ],
   "metadata": {
    "collapsed": false
   }
  },
  {
   "cell_type": "code",
   "execution_count": 18,
   "outputs": [
    {
     "name": "stdout",
     "output_type": "stream",
     "text": [
      "Rodando algoritmo de Deutsch para uma função balanceado, com variacao 0:\n",
      "resultado: funcao balanceada\n",
      "Rodando algoritmo de Deutsch para uma função balanceado, com variacao 1:\n",
      "resultado: funcao balanceada\n",
      "Rodando algoritmo de Deutsch para uma função constante, com variacao 0:\n",
      "resultado: funcao constante\n",
      "Rodando algoritmo de Deutsch para uma função constante, com variacao 1:\n",
      "resultado: funcao constante\n"
     ]
    }
   ],
   "source": [
    "from qiskit import Aer, execute\n",
    "\n",
    "def simula_deutsch(modo: str='balanceado', variacao: int=0):\n",
    "    \"\"\"Roda o algoritmo de Deutsch, para uma funcao f(x) determinada pelos argumentos\"\"\"\n",
    "\n",
    "    print(f'Rodando algoritmo de Deutsch para uma função {modo}, com variacao {variacao}:')\n",
    "    c = QuantumCircuit(2, 1)\n",
    "\n",
    "    # usando implementação de:\n",
    "    # https://en.wikipedia.org/wiki/Deutsch%E2%80%93Jozsa_algorithm#Deutsch's_algorithm\n",
    "    # e também do qiskit:\n",
    "    # https://qiskit.org/textbook/ch-algorithms/deutsch-jozsa.html\n",
    "\n",
    "    # preparando o circuito com |0⟩|1⟩\n",
    "    c.x(1)\n",
    "    c.barrier()\n",
    "    # aplicando H para ambos os qubits\n",
    "    c.h(0)\n",
    "    c.h(1)\n",
    "    c.barrier()\n",
    "    # aplicando o oraculo\n",
    "    c += aplicando_oraculo(None, modo, variacao)\n",
    "    # aplicando o H no \"registrador\"\n",
    "    c.h(0)\n",
    "    c.barrier()\n",
    "    # medindo\n",
    "    c.measure(0, 0)\n",
    "\n",
    "    # vendo o resultado\n",
    "    simulator = Aer.get_backend('qasm_simulator')\n",
    "    resultado = execute(c, simulator).result()\n",
    "    # resultado deve ser um dicionario, cuja chave única é o resultado.\n",
    "    try:\n",
    "        d = dict(resultado.get_counts())\n",
    "        if len(d.keys()) > 1:\n",
    "            print(\"imprecisão no resultado, algoritmo falhou\")\n",
    "        else:\n",
    "            res = list(d.keys())[0]\n",
    "            if res == '1':\n",
    "                print(\"resultado: funcao balanceada\")\n",
    "            elif res == '0':\n",
    "                print(\"resultado: funcao constante\")\n",
    "            else:\n",
    "                print(\"resultado invalido: \", res)\n",
    "    except Exception as e:\n",
    "        print(\"erro encontrado: \", e)\n",
    "\n",
    "\n",
    "simula_deutsch('balanceado', 0)\n",
    "simula_deutsch('balanceado', 1)\n",
    "simula_deutsch('constante', 0)\n",
    "simula_deutsch('constante', 1)"
   ],
   "metadata": {
    "collapsed": false,
    "pycharm": {
     "name": "#%%\n"
    }
   }
  },
  {
   "cell_type": "markdown",
   "source": [
    "## Parte 2: Algoritmo de Deutsch-Josza\n",
    "\n",
    "**Crie circuitos quânticos para dois oráculos à sua escolha: um correspondente a uma função constante\n",
    "e outro correspondente a uma função balanceada, onde as funções têm como entrada sequências de 6 bits,\n",
    "isto é, f: {0, 1}6 --> {0, 1}.**\n",
    "\n",
    "Oráculo da função constante:  ```f(x1, x2, ..., x6) = 0```\n",
    "Oráculo da função balanceada: ```f(x1, x2, ..., x6) = x1    (depende só de x1)```"
   ],
   "metadata": {
    "collapsed": false
   }
  },
  {
   "cell_type": "code",
   "execution_count": 19,
   "outputs": [
    {
     "data": {
      "text/plain": "      ░       ░ \nq_0: ─░───■───░─\n      ░   │   ░ \nq_1: ─░───┼───░─\n      ░   │   ░ \nq_2: ─░───┼───░─\n      ░   │   ░ \nq_3: ─░───┼───░─\n      ░   │   ░ \nq_4: ─░───┼───░─\n      ░   │   ░ \nq_5: ─░───┼───░─\n      ░ ┌─┴─┐ ░ \nq_6: ─░─┤ X ├─░─\n      ░ └───┘ ░ \nc: 6/═══════════\n                ",
      "text/html": "<pre style=\"word-wrap: normal;white-space: pre;background: #fff0;line-height: 1.1;font-family: &quot;Courier New&quot;,Courier,monospace\">      ░       ░ \nq_0: ─░───■───░─\n      ░   │   ░ \nq_1: ─░───┼───░─\n      ░   │   ░ \nq_2: ─░───┼───░─\n      ░   │   ░ \nq_3: ─░───┼───░─\n      ░   │   ░ \nq_4: ─░───┼───░─\n      ░   │   ░ \nq_5: ─░───┼───░─\n      ░ ┌─┴─┐ ░ \nq_6: ─░─┤ X ├─░─\n      ░ └───┘ ░ \nc: 6/═══════════\n                </pre>"
     },
     "execution_count": 19,
     "metadata": {},
     "output_type": "execute_result"
    }
   ],
   "source": [
    "def aplicando_oraculo_2(c: Union[QuantumCircuit, None], n: int=6, tipo: int=0):\n",
    "    \"\"\"\n",
    "    Aplica o oraculo no circuito quântico.\n",
    "    Se o circuito for None, será criado um novo circuito.\n",
    "\n",
    "    :param c: QuantumCircuit, ou None\n",
    "    :param n: quantidade de bits da sequencia\n",
    "    :param tipo: 0 para oraculo de funcao constante, 1 para balanceado\n",
    "    \"\"\"\n",
    "\n",
    "    if c is None:\n",
    "        c = QuantumCircuit(n + 1)       # +1 para o y\n",
    "\n",
    "    if tipo == 0:   # saida constante\n",
    "        pass\n",
    "    else:           # saida balanceada\n",
    "        c.cnot(0, n)\n",
    "    c.barrier()\n",
    "    return c\n",
    "\n",
    "# num = 6\n",
    "# qc = QuantumCircuit(num + 1, num)\n",
    "# qc += aplicando_oraculo_2(None, num, 0)\n",
    "# qc += aplicando_oraculo_2(None, num, 1)\n",
    "# qc.draw()"
   ],
   "metadata": {
    "collapsed": false,
    "pycharm": {
     "name": "#%%\n"
    }
   }
  },
  {
   "cell_type": "markdown",
   "source": [
    "**Simule no Qiskit um circuito quântico que implemente o Algoritmo de Deutsch-Josza para\n",
    "cada uma das funções acima**."
   ],
   "metadata": {
    "collapsed": false
   }
  },
  {
   "cell_type": "code",
   "execution_count": 21,
   "outputs": [
    {
     "name": "stdout",
     "output_type": "stream",
     "text": [
      "Rodando o algoritmo de Deutsch-Jozsa para uma função do tipo constante\n",
      "resultado: funcao constante\n",
      "Rodando o algoritmo de Deutsch-Jozsa para uma função do tipo balanceada\n",
      "resultado: funcao balanceada\n"
     ]
    }
   ],
   "source": [
    "def simula_deutsch_josza(n: int=6, tipo: int=0):\n",
    "    print(f\"Rodando o algoritmo de Deutsch-Jozsa para uma função do tipo {'constante' if tipo == 0 else 'balanceada'}\")\n",
    "\n",
    "    c = QuantumCircuit(n+1, n)\n",
    "\n",
    "    # preparando o circuito com (|0⟩)^n |1⟩\n",
    "    c.x(n)\n",
    "    c.barrier()\n",
    "    # aplicando H para todos os qubits\n",
    "    for i in range(n+1):\n",
    "        c.h(i)\n",
    "    c.barrier()\n",
    "    # aplicando o oraculo 2\n",
    "    c += aplicando_oraculo_2(None, n, tipo)\n",
    "    # aplicando o H nos qubits de entrada\n",
    "    for i in range(n):\n",
    "        c.h(i)\n",
    "    c.barrier()\n",
    "    # medindo\n",
    "    for i in range(n):\n",
    "        c.measure(i, i)\n",
    "\n",
    "    # vendo o resultado\n",
    "    simulator = Aer.get_backend('qasm_simulator')\n",
    "    resultado = execute(c, simulator).result()\n",
    "    # resultado deve ser um dicionario, cuja chave unica é o resultado.\n",
    "    try:\n",
    "        d = dict(resultado.get_counts())\n",
    "        if len(d.keys()) > 1:\n",
    "            print(\"imprecisao no resultado, algoritmo falhou\")\n",
    "        else:\n",
    "            res = list(d.keys())[0]\n",
    "            if res == '0' * n:      # chance de ser 00000..0\n",
    "                print(\"resultado: funcao constante\")\n",
    "            else:\n",
    "                print(\"resultado: funcao balanceada\")\n",
    "                \n",
    "    except Exception as e:\n",
    "        print('erro encontrado: ', e)\n",
    "\n",
    "simula_deutsch_josza(6, 0)\n",
    "simula_deutsch_josza(6, 1)"
   ],
   "metadata": {
    "collapsed": false,
    "pycharm": {
     "name": "#%%\n"
    }
   }
  }
 ],
 "metadata": {
  "kernelspec": {
   "display_name": "Python 3",
   "language": "python",
   "name": "python3"
  },
  "language_info": {
   "codemirror_mode": {
    "name": "ipython",
    "version": 2
   },
   "file_extension": ".py",
   "mimetype": "text/x-python",
   "name": "python",
   "nbconvert_exporter": "python",
   "pygments_lexer": "ipython2",
   "version": "2.7.6"
  }
 },
 "nbformat": 4,
 "nbformat_minor": 0
}