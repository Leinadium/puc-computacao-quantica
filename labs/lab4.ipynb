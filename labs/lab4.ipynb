{
 "cells": [
  {
   "cell_type": "markdown",
   "metadata": {
    "collapsed": true,
    "pycharm": {
     "name": "#%% md\n"
    }
   },
   "source": [
    "# Laboratório 4\n",
    "\n",
    "* *Daniel Guimarães*\n",
    "\n",
    "* *Iury Saboia*\n",
    "\n",
    "# 1 : Protocolo ideal\n",
    "\n",
    "## 1.1\n",
    "**(Alice)** : Crie um circuito quântico de dois qubits (q0 e q1), e por enquanto ignore q1.\n",
    "Implemente uma operação unitária *Ua* que seja capaz de receber como entrada dois bits clássicos.\n",
    "Para cada combinação possível desses 2 bits, um dos estados { |0⟩, |+⟩, |1⟩, |-⟩ } deve ser obtido\n",
    "após a aplicação de *Ua* em q0."
   ]
  },
  {
   "cell_type": "code",
   "execution_count": 190,
   "outputs": [],
   "source": [
    "from qiskit import QuantumCircuit\n",
    "\n",
    "def ua(qc: QuantumCircuit, c0: int, c1: int, duplo=False):\n",
    "    \"\"\"\n",
    "    Cria um estado de acordo com as entradas classicas c0 e c1\n",
    "\n",
    "    c0 = 0, c1 = 0:\n",
    "        retorna |0⟩\n",
    "    c0 = 0, c1 = 1:\n",
    "        retorna |1⟩\n",
    "    c0 = 1, c1 = 0:\n",
    "        retorna |+⟩\n",
    "    c0 = 1, c1 = 1:\n",
    "        retorna |-⟩\n",
    "    \"\"\"\n",
    "    if not c0 and not c1:\n",
    "        pass\n",
    "    elif not c0 and c1:\n",
    "        qc.x(0)\n",
    "        if duplo: qc.x(1)\n",
    "    elif c0 and not c1:\n",
    "        qc.h(0)\n",
    "        if duplo: qc.h(1)\n",
    "    else:\n",
    "        qc.x(0)\n",
    "        qc.h(0)\n",
    "        if duplo:\n",
    "            qc.x(1)\n",
    "            qc.h(1)"
   ],
   "metadata": {
    "collapsed": false,
    "pycharm": {
     "name": "#%%\n"
    }
   }
  },
  {
   "cell_type": "markdown",
   "source": [
    "## 1.2\n",
    "**(Bob)** : Crie uma operação unitária *Ub* que receba como parâmetro um bit clássico e\n",
    "realize uma medida em *q0*. Dependendo do bit recebido, a medida deve corresponder a uma\n",
    "medida projetiva na base computacional ou na base diagonal."
   ],
   "metadata": {
    "collapsed": false
   }
  },
  {
   "cell_type": "code",
   "execution_count": 191,
   "outputs": [],
   "source": [
    "from qiskit import Aer, execute\n",
    "\n",
    "simulator = Aer.get_backend('qasm_simulator')\n",
    "\n",
    "def ub(qc: QuantumCircuit, c: int, qubit=0) -> int:\n",
    "    if c:\n",
    "        qc.h(qubit)\n",
    "    qc.measure(qubit, 0)\n",
    "    resultado = execute(qc, simulator, shots=1).result()\n",
    "    return int(next(iter(resultado.to_dict()['results'][0]['data']['counts']))[-1])"
   ],
   "metadata": {
    "collapsed": false,
    "pycharm": {
     "name": "#%%\n"
    }
   }
  },
  {
   "cell_type": "markdown",
   "source": [
    "## 1.3\n",
    "**(Conciliação de bases)** : Implemente um algoritmo (clássico) de conciliação de bases,\n",
    "de modo que após a aplicação do algoritmo Alice e Bob permanecem com bits relacionados\n",
    "a escolhas de mesma base\n"
   ],
   "metadata": {
    "collapsed": false
   }
  },
  {
   "cell_type": "code",
   "execution_count": 192,
   "outputs": [],
   "source": [
    "from typing import Tuple, List\n",
    "\n",
    "# lista = [qc1, qc2, qc3]\n",
    "# alice = [00 (0) , 10  (+) , 11  (-) ]\n",
    "# bob   = [0  (01), 0   (01), 1   (+-)]\n",
    "\n",
    "def conciliacao_bases(lista_bob: List[int], escolhas_alice: List[Tuple[int, int]], escolha_bob: List[int]) -> Tuple:\n",
    "    \"\"\"Retorna as tres novas listas\"\"\"\n",
    "\n",
    "    lista_final = []\n",
    "    escolhas_alice_final = []\n",
    "    escolhas_bob_final = []\n",
    "\n",
    "    for i in range(len(lista_bob)):                 # para cada item das listas\n",
    "        if escolhas_alice[i][0] == escolha_bob[i]:  # se bob e alice escolheram iguais\n",
    "            lista_final.append(lista_bob[i])                    # salva nas listas finais\n",
    "            escolhas_alice_final.append(escolhas_alice[i])\n",
    "            escolhas_bob_final.append(escolha_bob[i])\n",
    "\n",
    "    # atualiza as listas\n",
    "    return lista_final, escolhas_alice_final, escolhas_bob_final"
   ],
   "metadata": {
    "collapsed": false,
    "pycharm": {
     "name": "#%%\n"
    }
   }
  },
  {
   "cell_type": "markdown",
   "source": [
    "## 1.4\n",
    "**(Verificacao da taxa de erro)** : Implemente um novo algoritmo que sacrifica 10% dos bits de Alice e Bob e\n",
    "compara seus valores, de modo a estimar a taxa de erro"
   ],
   "metadata": {
    "collapsed": false
   }
  },
  {
   "cell_type": "code",
   "execution_count": 193,
   "outputs": [],
   "source": [
    "def taxa_de_erro(lista_final: List[int], escolhas_alice: List[Tuple[int, int]]):\n",
    "\n",
    "    # obsevado_bob =     [0 , 1 , 0 , 0 , 1 ]\n",
    "\n",
    "    # escolhas_alice =  [00, 01, 10, 11, 01]\n",
    "    #                   [0 , 1 , + , - , 1 ]\n",
    "    soma = 0\n",
    "    total = len(lista_final) // 10\n",
    "    for i in range(total):\n",
    "        alice = escolhas_alice.pop()\n",
    "        final = lista_final.pop()\n",
    "        if alice[1] != final:\n",
    "            soma += 1\n",
    "\n",
    "    return soma / total"
   ],
   "metadata": {
    "collapsed": false,
    "pycharm": {
     "name": "#%%\n"
    }
   }
  },
  {
   "cell_type": "markdown",
   "source": [
    "**(Primeira rodada do protocolo BB84)** : Rode o protocolo para N = 10000 qubits enviados por Alice,\n",
    "onde as escolhas de bits (tanto por Alice quanto por Bob) são aleatórias.\n",
    "Qual a taxa de erro encontrada?"
   ],
   "metadata": {
    "collapsed": false,
    "pycharm": {
     "name": "#%% md\n"
    }
   }
  },
  {
   "cell_type": "code",
   "execution_count": 194,
   "outputs": [
    {
     "name": "stdout",
     "output_type": "stream",
     "text": [
      "taxa de erro: 0.00%\n"
     ]
    }
   ],
   "source": [
    "from random import randint\n",
    "\n",
    "def protocolo_bb84(n=1000):\n",
    "    observado_bob: List[int] = []\n",
    "    escolhas_alice: List[Tuple[int, int]] = []\n",
    "    escolhas_bob: List[int] = []\n",
    "\n",
    "    for _ in range(n):\n",
    "        # bits aleatorios\n",
    "        c0_alice, c1_alice = randint(0, 1), randint(0, 1)\n",
    "        c_bob = randint(0, 1)\n",
    "\n",
    "        # operacoes\n",
    "        qc = QuantumCircuit(2, 2)\n",
    "        ua(qc, c0_alice, c1_alice)\n",
    "        x = ub(qc, c_bob)\n",
    "\n",
    "        # salvando operacoes\n",
    "        observado_bob.append(x)\n",
    "        escolhas_alice.append((c0_alice, c1_alice))\n",
    "        escolhas_bob.append(c_bob)\n",
    "\n",
    "    observado_bob, escolhas_alice, escolhas_bob = conciliacao_bases(observado_bob, escolhas_alice, escolhas_bob)\n",
    "\n",
    "    erro = taxa_de_erro(observado_bob, escolhas_alice)\n",
    "    print(f\"taxa de erro: {(erro * 100):.2f}%\")\n",
    "\n",
    "protocolo_bb84()"
   ],
   "metadata": {
    "collapsed": false,
    "pycharm": {
     "name": "#%%\n"
    }
   }
  },
  {
   "cell_type": "markdown",
   "source": [
    "# Parte 2: Ataque Intercept-Resend\n",
    "\n",
    "## 2.1\n",
    "**(Eva)** : Implemente agora a ação da espiã, Eva, no protocolo acima. Para cada qubit\n",
    "enviado por Alice, Eva deve \"interceptar\" o qubit e proceder exatamente como Bob; em\n",
    "seguida ela deve reenviar o resultado de sua medida projetiva para Bob. Utilize agora\n",
    "o qubit q1 para representar o qubit reenviado por Eva a Bob, e modifique o circuito\n",
    "anterior de modo que agora Bob mede q1 ao invés de q0."
   ],
   "metadata": {
    "collapsed": false,
    "pycharm": {
     "name": "#%% md\n"
    }
   }
  },
  {
   "cell_type": "code",
   "execution_count": 195,
   "outputs": [],
   "source": [
    "def ua_duplicado(qc: QuantumCircuit, c0: int, c1: int):\n",
    "    return ua(qc, c0, c1, True)\n",
    "\n",
    "def ub_modificado(qc: QuantumCircuit, c: int):\n",
    "    return ub(qc, c, 1)\n",
    "\n",
    "def ue(qc: QuantumCircuit) -> int:\n",
    "    from random import choice\n",
    "    base_escolhida = choice([0, 1])\n",
    "    if base_escolhida == 1:\n",
    "        qc.h(1)\n",
    "        qc.measure(1, 0)\n",
    "        qc.h(1)\n",
    "    else:\n",
    "        qc.measure(1, 0)\n",
    "    return base_escolhida"
   ],
   "metadata": {
    "collapsed": false,
    "pycharm": {
     "name": "#%%\n"
    }
   }
  },
  {
   "cell_type": "markdown",
   "source": [
    "## 2.2\n",
    "**(Segunda rodada do protocolo BB84)** : Rode o protocolo para n = 10000 qubits enviados por Alice.\n",
    "Qual a nova taxa de erro encontrada no final?"
   ],
   "metadata": {
    "collapsed": false
   }
  },
  {
   "cell_type": "code",
   "execution_count": 196,
   "outputs": [
    {
     "name": "stdout",
     "output_type": "stream",
     "text": [
      "taxa de erro: 24.30%\n"
     ]
    }
   ],
   "source": [
    "def protocolo_bb84_modificado(n=10000):\n",
    "    observado_bob: List[int] = []\n",
    "    escolhas_alice: List[Tuple[int, int]] = []\n",
    "    escolhas_bob: List[int] = []\n",
    "\n",
    "    for _ in range(n):\n",
    "        # bits aleatorios\n",
    "        c0_alice, c1_alice = randint(0, 1), randint(0, 1)\n",
    "        c_bob = randint(0, 1)\n",
    "\n",
    "        # operacoes\n",
    "        qc = QuantumCircuit(2, 1)\n",
    "        ua_duplicado(qc, c0_alice, c1_alice)\n",
    "        ue(qc)\n",
    "        x = ub_modificado(qc, c_bob)\n",
    "\n",
    "        # salvando operacoes\n",
    "        observado_bob.append(x)\n",
    "        escolhas_alice.append((c0_alice, c1_alice))\n",
    "        escolhas_bob.append(c_bob)\n",
    "\n",
    "    observado_bob, escolhas_alice, escolhas_bob = conciliacao_bases(observado_bob, escolhas_alice, escolhas_bob)\n",
    "\n",
    "    erro = taxa_de_erro(observado_bob, escolhas_alice)\n",
    "    print(f\"taxa de erro: {(erro * 100):.2f}%\")\n",
    "\n",
    "protocolo_bb84_modificado()"
   ],
   "metadata": {
    "collapsed": false,
    "pycharm": {
     "name": "#%%\n"
    }
   }
  },
  {
   "cell_type": "markdown",
   "source": [
    "## 2.3\n",
    "**(Taxa de erro máxima)** : Eva sabe que o protocolo é interrompido se a taxa de erro ultrapassar o limite de,\n",
    "digamos, 10%. Qual a maior fração de qubits de Alice que ela deve interceptar de modo a sempre manter a taxa de\n",
    "erro abaixo do limite? E qual a fração dos bits da chave compartilhada que Eva conhece? Simule o caso."
   ],
   "metadata": {
    "collapsed": false
   }
  },
  {
   "cell_type": "code",
   "execution_count": 197,
   "outputs": [
    {
     "name": "stdout",
     "output_type": "stream",
     "text": [
      "taxa de erro: 10.12%\n",
      "taxa de conhecimento da eva: 20.43%\n"
     ]
    }
   ],
   "source": [
    "# 10 / 25 = 40% dos bits que ela pode pegar\n",
    "\n",
    "def conciliacao_bases_eva(lista_bob: List[int], escolhas_alice: List[Tuple[int, int]], escolha_bob: List[int], escolhas_eva) -> Tuple:\n",
    "    \"\"\"Retorna as tres novas listas\"\"\"\n",
    "\n",
    "    lista_final = []\n",
    "    escolhas_alice_final = []\n",
    "    escolhas_bob_final = []\n",
    "    escolhas_eva_final = []\n",
    "\n",
    "    for i in range(len(lista_bob)):                 # para cada item das listas\n",
    "        if escolhas_alice[i][0] == escolha_bob[i]:  # se bob e alice escolheram iguais\n",
    "            lista_final.append(lista_bob[i])                    # salva nas listas finais\n",
    "            escolhas_alice_final.append(escolhas_alice[i])\n",
    "            escolhas_bob_final.append(escolha_bob[i])\n",
    "            escolhas_eva_final.append(escolhas_eva[i])\n",
    "\n",
    "    # atualiza as listas\n",
    "    return lista_final, escolhas_alice_final, escolhas_bob_final, escolhas_eva_final\n",
    "\n",
    "def protocolo_bb84_eva_limite(n=10000):\n",
    "    from random import uniform\n",
    "    observado_bob: List[int] = []\n",
    "    escolhas_alice: List[Tuple[int, int]] = []\n",
    "    escolhas_bob: List[int] = []\n",
    "    escolhas_eva: List[int] = []\n",
    "\n",
    "    for _ in range(n):\n",
    "        # bits aleatorios\n",
    "        c0_alice, c1_alice = randint(0, 1), randint(0, 1)\n",
    "        c_bob = randint(0, 1)\n",
    "\n",
    "        # operacoes\n",
    "        qc = QuantumCircuit(2, 1)\n",
    "        ua_duplicado(qc, c0_alice, c1_alice)\n",
    "        if uniform(0, 1) < 0.4:\n",
    "            escolha_eva = ue(qc)\n",
    "            escolhas_eva.append(escolha_eva)\n",
    "        else:\n",
    "            escolhas_eva.append(-1)\n",
    "        x = ub_modificado(qc, c_bob)\n",
    "\n",
    "        # salvando operacoes\n",
    "        observado_bob.append(x)\n",
    "        escolhas_alice.append((c0_alice, c1_alice))\n",
    "        escolhas_bob.append(c_bob)\n",
    "\n",
    "    observado_bob, escolhas_alice, escolhas_bob, escolhas_eva = conciliacao_bases_eva(observado_bob, escolhas_alice, escolhas_bob, escolhas_eva)\n",
    "\n",
    "    soma_conhecidos_eva = 0\n",
    "    for i in range(len(escolhas_eva)):\n",
    "        if escolhas_eva[i] == -1:       # nao viu esse bit\n",
    "            continue\n",
    "        if escolhas_eva[i] == escolhas_alice[i][0]:     # pegou a base correta\n",
    "            soma_conhecidos_eva += 1\n",
    "    conhecidos_eva = soma_conhecidos_eva / len(escolhas_eva)\n",
    "    erro = taxa_de_erro(observado_bob, escolhas_alice)\n",
    "    print(f\"taxa de erro: {(erro * 100):.2f}%\\ntaxa de conhecimento da eva: {(conhecidos_eva * 100):.2f}%\")\n",
    "\n",
    "protocolo_bb84_eva_limite()"
   ],
   "metadata": {
    "collapsed": false,
    "pycharm": {
     "name": "#%%\n"
    }
   }
  },
  {
   "cell_type": "markdown",
   "source": [
    "## 2.4\n",
    "**(Amplificação de Privacidade)** Efetua uma etapa de um algoritmo de Amplificação de Privacidade,\n",
    "que realiza uma operação soma módulo 2 (XOR) entre cada 2 bits consecutivos da chave compartilhada.\n",
    "Com base nesse resultado, comente sobre a etapa de Amplificação de Privacidade e sua importância para o\n",
    "protocolo BB84"
   ],
   "metadata": {
    "collapsed": false
   }
  },
  {
   "cell_type": "code",
   "execution_count": 199,
   "outputs": [
    {
     "name": "stdout",
     "output_type": "stream",
     "text": [
      "taxa de erro: 9.86%\n",
      "taxa de conhecimento da eva: 3.58%\n"
     ]
    }
   ],
   "source": [
    "# basicamente, apesar de que a chave possui somente a metade do seu comprimento original, é necessário que a Eva\n",
    "# saiba dois bits consecutivos da chave, e as chances de a Eva acertar dois seguidos fica extremamente pequena, pois:\n",
    "#   1. Se ela vai ver sempre dois bits seguidos, ela vai ver em geral menos da chave, pois ela tem que continuar vendo\n",
    "#      somente 40% das vezes. Ou seja, agora ela irá observar 20% das vezes (mas duas vezes seguidas)\n",
    "#   2. A chance dela de acertar o bit em 50% das vezes agora foi para 25% das vezes.\n",
    "\n",
    "# Sobre as vantagens, o ponto 1 mostra que a Eva irá intervir menos vezes, o que significa que a taxa de erro (no geral,\n",
    "# considerando 2bits = 1 bit da chave) irá diminuir.\n",
    "# Além disso, os bits da chave que ela consegue ver serão ainda menores, o que é importante para usos como o \"one time pad\"\n",
    "\n",
    "def protocolo_bb84_eva_privacidade(n=10000):\n",
    "    from random import uniform\n",
    "    observado_bob: List[int] = []\n",
    "    escolhas_alice: List[Tuple[int, int]] = []\n",
    "    escolhas_bob: List[int] = []\n",
    "    escolhas_eva: List[int] = []\n",
    "    eva_olha_duas_vezes = False\n",
    "\n",
    "    for _ in range(n):\n",
    "        # bits aleatorios\n",
    "        c0_alice, c1_alice = randint(0, 1), randint(0, 1)\n",
    "        c_bob = randint(0, 1)\n",
    "\n",
    "        # operacoes\n",
    "        qc = QuantumCircuit(2, 1)\n",
    "        ua_duplicado(qc, c0_alice, c1_alice)\n",
    "        if uniform(0, 1) < (0.4 / 2) or eva_olha_duas_vezes:\n",
    "            eva_olha_duas_vezes = not eva_olha_duas_vezes   # faz com que ela olhe duas vezes seguidas\n",
    "            escolha_eva = ue(qc)\n",
    "            escolhas_eva.append(escolha_eva)\n",
    "        else:\n",
    "            escolhas_eva.append(-1)\n",
    "        x = ub_modificado(qc, c_bob)\n",
    "\n",
    "        # salvando operacoes\n",
    "        observado_bob.append(x)\n",
    "        escolhas_alice.append((c0_alice, c1_alice))\n",
    "        escolhas_bob.append(c_bob)\n",
    "\n",
    "    observado_bob, escolhas_alice, escolhas_bob, escolhas_eva = conciliacao_bases_eva(observado_bob, escolhas_alice, escolhas_bob, escolhas_eva)\n",
    "\n",
    "    soma_conhecidos_eva = 0\n",
    "    for j in range(len(escolhas_eva) // 2):\n",
    "        i, i2 = j * 2, j * 2 + 1\n",
    "\n",
    "        if escolhas_eva[i] == -1 or escolhas_eva[i2] == -1:       # nao viu esse bit\n",
    "            continue\n",
    "        if escolhas_eva[i] == escolhas_alice[i][0] and escolhas_eva[i2] == escolhas_alice[i2][0]:     # pegou a base correta\n",
    "            soma_conhecidos_eva += 1\n",
    "\n",
    "    conhecidos_eva = soma_conhecidos_eva / (len(escolhas_eva) // 2)\n",
    "    erro = taxa_de_erro(observado_bob, escolhas_alice)\n",
    "    print(f\"taxa de erro: {(erro * 100):.2f}%\\ntaxa de conhecimento da eva: {(conhecidos_eva * 100):.2f}%\")\n",
    "\n",
    "protocolo_bb84_eva_privacidade()"
   ],
   "metadata": {
    "collapsed": false,
    "pycharm": {
     "name": "#%%\n"
    }
   }
  }
 ],
 "metadata": {
  "kernelspec": {
   "display_name": "Python 3",
   "language": "python",
   "name": "python3"
  },
  "language_info": {
   "codemirror_mode": {
    "name": "ipython",
    "version": 2
   },
   "file_extension": ".py",
   "mimetype": "text/x-python",
   "name": "python",
   "nbconvert_exporter": "python",
   "pygments_lexer": "ipython2",
   "version": "2.7.6"
  }
 },
 "nbformat": 4,
 "nbformat_minor": 0
}